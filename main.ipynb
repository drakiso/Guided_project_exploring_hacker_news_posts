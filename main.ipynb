{
 "cells": [
  {
   "cell_type": "markdown",
   "id": "b8d9c567-775c-4ba6-935d-650f52145c4c",
   "metadata": {},
   "source": [
    "## Guided Project: Exploring Hacker News Posts\n",
    "\n",
    "The goal of our project is to analyze posts submitted on Hacker News website to determine whether posts to ask questions to the community receive on average more comments than posts to show something to the community. Also we would determine if the time of the posts' creation has incidence on the number of comments it receives."
   ]
  },
  {
   "cell_type": "markdown",
   "id": "af546578-7c22-4799-9c27-a2718d0a000f",
   "metadata": {},
   "source": [
    "#### Import necessary libraries"
   ]
  },
  {
   "cell_type": "code",
   "execution_count": 1,
   "id": "9b3a8641-c046-4c99-a3d4-17ac61c49152",
   "metadata": {},
   "outputs": [],
   "source": [
    "# import csv library to read csv file.\n",
    "import csv\n",
    "\n",
    "# import datetime to work with the data in the created_at column\n",
    "import datetime as dt"
   ]
  },
  {
   "cell_type": "markdown",
   "id": "895905e3-0053-43f1-8a13-d947b11d2feb",
   "metadata": {},
   "source": [
    "#### Data collection\n",
    "1. Read the **\"hacker_news.csv\"** file in as a list of lists and assign result to the variable *hn*\n",
    "3. Display the first five rows of *hn*"
   ]
  },
  {
   "cell_type": "code",
   "execution_count": 2,
   "id": "2ed44b39-ac1d-499e-b42b-bc4987f5704b",
   "metadata": {},
   "outputs": [
    {
     "name": "stdout",
     "output_type": "stream",
     "text": [
      "[['id', 'title', 'url', 'num_points', 'num_comments', 'author', 'created_at'], ['12224879', 'Interactive Dynamic Video', 'http://www.interactivedynamicvideo.com/', '386', '52', 'ne0phyte', '8/4/2016 11:52'], ['10975351', 'How to Use Open Source and Shut the Fuck Up at the Same Time', 'http://hueniverse.com/2016/01/26/how-to-use-open-source-and-shut-the-fuck-up-at-the-same-time/', '39', '10', 'josep2', '1/26/2016 19:30'], ['11964716', \"Florida DJs May Face Felony for April Fools' Water Joke\", 'http://www.thewire.com/entertainment/2013/04/florida-djs-april-fools-water-joke/63798/', '2', '1', 'vezycash', '6/23/2016 22:20'], ['11919867', 'Technology ventures: From Idea to Enterprise', 'https://www.amazon.com/Technology-Ventures-Enterprise-Thomas-Byers/dp/0073523429', '3', '1', 'hswarna', '6/17/2016 0:01']]\n"
     ]
    }
   ],
   "source": [
    "with open(\"./Assets/hacker_news.csv\") as file:\n",
    "    # read the \"hacker_news.csv\" with csv reader\n",
    "    reader = csv.reader(file)\n",
    "    # assign the reading result to the variable hn as a list of lists.\n",
    "    hn =  list(reader)\n",
    "\n",
    "# To visualize and try to understand our data\n",
    "print(hn[:5])"
   ]
  },
  {
   "cell_type": "markdown",
   "id": "fd4ccb64-f440-494a-97d4-6b1e575b46ef",
   "metadata": {},
   "source": [
    "#### Data cleaning\n",
    "\n",
    "1. What we want to do first it to remove row containing the column headers from our data. It's he first row in *hn*"
   ]
  },
  {
   "cell_type": "code",
   "execution_count": 3,
   "id": "b6f43573-f234-4d3b-b304-e13c31bc54e5",
   "metadata": {},
   "outputs": [
    {
     "name": "stdout",
     "output_type": "stream",
     "text": [
      "['id', 'title', 'url', 'num_points', 'num_comments', 'author', 'created_at']\n",
      "\n",
      "[['12224879', 'Interactive Dynamic Video', 'http://www.interactivedynamicvideo.com/', '386', '52', 'ne0phyte', '8/4/2016 11:52'], ['10975351', 'How to Use Open Source and Shut the Fuck Up at the Same Time', 'http://hueniverse.com/2016/01/26/how-to-use-open-source-and-shut-the-fuck-up-at-the-same-time/', '39', '10', 'josep2', '1/26/2016 19:30'], ['11964716', \"Florida DJs May Face Felony for April Fools' Water Joke\", 'http://www.thewire.com/entertainment/2013/04/florida-djs-april-fools-water-joke/63798/', '2', '1', 'vezycash', '6/23/2016 22:20'], ['11919867', 'Technology ventures: From Idea to Enterprise', 'https://www.amazon.com/Technology-Ventures-Enterprise-Thomas-Byers/dp/0073523429', '3', '1', 'hswarna', '6/17/2016 0:01'], ['10301696', 'Note by Note: The Making of Steinway L1037 (2007)', 'http://www.nytimes.com/2007/11/07/movies/07stein.html?_r=0', '8', '2', 'walterbell', '9/30/2015 4:12']]\n"
     ]
    }
   ],
   "source": [
    "# Extract row headers and assign it to the variable headers\n",
    "headers = hn[0]\n",
    "# Remove the first row from hn\n",
    "hn.remove(headers)\n",
    "\n",
    "# Verification if all went ok\n",
    "print(headers)\n",
    "print()\n",
    "print(hn[:5])"
   ]
  },
  {
   "cell_type": "markdown",
   "id": "d4059418-589b-433c-b47d-9331927bc27b",
   "metadata": {},
   "source": [
    "2. We are interested in posts whose title begin with **Ask HN** or **Show HN**. At this step, we'll extract datas corresponding to these conditions."
   ]
  },
  {
   "cell_type": "code",
   "execution_count": 4,
   "id": "540fa2e7-af01-4558-8b1f-0f74fcebe331",
   "metadata": {},
   "outputs": [
    {
     "name": "stdout",
     "output_type": "stream",
     "text": [
      "1744 Ask HN posts\n",
      "1162 Show HN posts\n",
      "17194 other posts\n"
     ]
    }
   ],
   "source": [
    "# We create 3 lists:\n",
    "# ask_posts => contains posts that title begin with Ask HN\n",
    "# show_posts => contains posts that title begin with Show HN\n",
    "# other_posts => correspond to the rest of the post\n",
    "ask_posts = []\n",
    "show_posts = []\n",
    "other_posts = []\n",
    "\n",
    "# We loop on hn\n",
    "# for each row in hn, we verify if the title (index 1) start with Ask HN or Show HN with String method startswith\n",
    "# As capitalization matter with startswith, we use lower() on our title and give to startswith lowercase version of Ask HN and Show HN\n",
    "for row in hn:\n",
    "    title = row[1].lower()\n",
    "    \n",
    "    if title.startswith(\"ask hn\"):\n",
    "        ask_posts.append(row)\n",
    "    elif title.startswith(\"show hn\"):\n",
    "        show_posts.append(row)\n",
    "    else:\n",
    "        other_posts.append(row)\n",
    "\n",
    "print(f\"{len(ask_posts)} Ask HN posts\")\n",
    "print(f\"{len(show_posts)} Show HN posts\")\n",
    "print(f\"{len(other_posts)} other posts\")"
   ]
  },
  {
   "cell_type": "markdown",
   "id": "2b7b2b6f-8edb-4569-96aa-2219b8a72a25",
   "metadata": {},
   "source": [
    "#### Data analysis\n",
    "Now that we extracted the posts that matter to us \n",
    "\n",
    "1. let's determine if ask posts or show posts receive more comments on average."
   ]
  },
  {
   "cell_type": "code",
   "execution_count": 5,
   "id": "5c96898f-8b9e-407f-8c5f-de07448b7afc",
   "metadata": {},
   "outputs": [
    {
     "name": "stdout",
     "output_type": "stream",
     "text": [
      "Average ask comments: 14.038417431192661\n",
      "Average show comments: 6.873853211009174\n"
     ]
    }
   ],
   "source": [
    "# We create variables to receive to total number of comments for each ask posts\n",
    "total_ask_comments = 0\n",
    "\n",
    "# we loop over the list of ask posts\n",
    "# get the number of comments\n",
    "# and add it to total_ask_comments\n",
    "for row in ask_posts:\n",
    "    total_ask_comments += int(row[4])\n",
    "\n",
    "# We calculate the average number of comments by divise total_ask_comments with the total number of Ask posts\n",
    "avg_ask_comments = total_ask_comments / len(ask_posts)\n",
    "print(f\"Average ask comments: {avg_ask_comments}\")\n",
    "\n",
    "# same process to show posts\n",
    "total_show_comments = 0\n",
    "\n",
    "for row in show_posts:\n",
    "    total_show_comments += int(row[4])\n",
    "\n",
    "avg_show_comments = total_show_comments / len(ask_posts)\n",
    "print(f\"Average show comments: {avg_show_comments}\")"
   ]
  },
  {
   "cell_type": "markdown",
   "id": "924e8b78-a727-4788-af10-45ef99001ae5",
   "metadata": {},
   "source": [
    "Post to ask question receive on average around 14 comments while pots to show thing to the community receive around 7 comments.  \n",
    "Globally Ask posts receive 2 time more comments than Show posts."
   ]
  },
  {
   "cell_type": "markdown",
   "id": "4df1f4cf-acd0-4f95-bbc6-da87463e0dab",
   "metadata": {},
   "source": [
    "Since Ask posts receive on average more comments than Show posts, let use ask posts data and determine if ask posts created at a certain time are more likely to attract comments."
   ]
  },
  {
   "cell_type": "code",
   "execution_count": 6,
   "id": "1f6ca334-c67a-436e-953c-3a692c44fd5c",
   "metadata": {},
   "outputs": [
    {
     "name": "stdout",
     "output_type": "stream",
     "text": [
      "[[5.5777777777777775, 9], [14.741176470588234, 13], [13.440677966101696, 10], [13.233644859813085, 14], [16.796296296296298, 16], [7.985294117647059, 23], [9.41095890410959, 12], [11.46, 17], [38.5948275862069, 15], [16.009174311926607, 21], [21.525, 20], [23.810344827586206, 2], [13.20183486238532, 18], [7.796296296296297, 3], [10.08695652173913, 5], [10.8, 19], [11.383333333333333, 1], [6.746478873239437, 22], [10.25, 8], [7.170212765957447, 4], [8.127272727272727, 0], [9.022727272727273, 6], [7.852941176470588, 7], [11.051724137931034, 11]]\n",
      "\n",
      "15:00: 38.59 average comments per post\n",
      "02:00: 23.81 average comments per post\n",
      "20:00: 21.52 average comments per post\n",
      "16:00: 16.80 average comments per post\n",
      "21:00: 16.01 average comments per post\n"
     ]
    }
   ],
   "source": [
    "# First let's calculate the number of ask posts created in each hour of the day, \n",
    "# along with the number of comments receive.\n",
    "\n",
    "# We extract the data we need by creating a list of lists that contains\n",
    "# the date of posts creation and the comments it receive at this date.\n",
    "result_list = []\n",
    "\n",
    "for row in ask_posts:\n",
    "    post_creation_date = row[6]\n",
    "    comment_number =  int(row[4])\n",
    "    result_list.append([post_creation_date, comment_number])\n",
    "\n",
    "# number of posts per hour\n",
    "counts_by_hour = {}\n",
    "# number of comments per hour\n",
    "comments_by_hour = {}\n",
    "\n",
    "for row in result_list:\n",
    "    comment_number =  row[1]\n",
    "    # the date is in a format like this \"month/day/year hour:minute\"\n",
    "    # we only need the hour\n",
    "    # to extract it, we use strptime() to convert our string to a datetime object\n",
    "    # then get the hour by useing the attribute .hour\n",
    "    hour = dt.datetime.strptime(row[0], \"%m/%d/%Y %H:%M\").hour\n",
    "    \n",
    "    if hour in counts_by_hour:\n",
    "        counts_by_hour[hour] += 1\n",
    "        comments_by_hour[hour] += comment_number\n",
    "    else:\n",
    "        counts_by_hour[hour] = 1\n",
    "        comments_by_hour[hour] = comment_number\n",
    "\n",
    "# Let's calculate the average number of comments per post for posts created during each hour of the day\n",
    "avg_by_hour = []\n",
    "\n",
    "for hour in comments_by_hour:\n",
    "    # The average comments for an hour is the total number of comments for this hour divise by the number of posts\n",
    "    avg_number_comments_by_hour = comments_by_hour[hour] / counts_by_hour[hour]\n",
    "    avg_by_hour.append([hour, avg_number_comments_by_hour])\n",
    "\n",
    "# We change the position of avg_comments and hour in order to sort by avg_comments in descending order\n",
    "swap_avg_by_hour = []\n",
    "\n",
    "for row in avg_by_hour:\n",
    "    swap_avg_by_hour.append([row[1], row[0]])\n",
    "\n",
    "print(swap_avg_by_hour, end=\"\\n\\n\")\n",
    "\n",
    "sorted_swap = sorted(swap_avg_by_hour, reverse=True)\n",
    "\n",
    "# We display the first 5 rows.\n",
    "# dt.datetime.strptime(str(row[1]), \"%H\").strftime(\"%H:%M\") => to format the hour like this : \"hour:00\"\n",
    "for row in sorted_swap[:5]:\n",
    "    print(f\"{dt.datetime.strptime(str(row[1]), \"%H\").strftime(\"%H:%M\")}: {row[0]:.2f} average comments per post\")"
   ]
  },
  {
   "cell_type": "markdown",
   "id": "6c935afa-1c80-4644-969c-0851378126e7",
   "metadata": {},
   "source": [
    "We already determine that globally Ask posts receive on average around 14 comments. Ask posts posted at 21, 16, 20, 02, 15 hours globally receive more comments than the average (14 comments). We can then conclude that posts created at these hours have  a higher chance of receiving comments. 15 is the optimal hours. \n",
    "All the hours correspond to the zone of Eastern Time in the US. Since We are in Moscow, let's determine when somebody in Moscow should create a posts."
   ]
  },
  {
   "cell_type": "code",
   "execution_count": 7,
   "id": "3f91a57f-aec7-4e3e-a49c-c67f17f01923",
   "metadata": {},
   "outputs": [
    {
     "name": "stdout",
     "output_type": "stream",
     "text": [
      "23:00: 38.59 average comments per post\n",
      "10:00: 23.81 average comments per post\n",
      "04:00: 21.52 average comments per post\n",
      "00:00: 16.80 average comments per post\n",
      "05:00: 16.01 average comments per post\n"
     ]
    }
   ],
   "source": [
    "# difference of time between Eastern Time in the US and Moscow = +8\n",
    "time_difference = dt.timedelta(hours=8) \n",
    "\n",
    "# let's display our result in Moscow time\n",
    "for row in sorted_swap[:5]:\n",
    "    print(f\"{(dt.datetime.strptime(str(row[1]), \"%H\") + time_difference).strftime(\"%H:%M\")}: {row[0]:.2f} average comments per post\")"
   ]
  },
  {
   "cell_type": "markdown",
   "id": "16bcc687-7f62-4884-b0e0-8bb18a1cf048",
   "metadata": {},
   "source": [
    "So for Moscow the hours are: 23 (the optimal hours), 10, 04, 00, 05."
   ]
  }
 ],
 "metadata": {
  "kernelspec": {
   "display_name": "Python 3 (ipykernel)",
   "language": "python",
   "name": "python3"
  },
  "language_info": {
   "codemirror_mode": {
    "name": "ipython",
    "version": 3
   },
   "file_extension": ".py",
   "mimetype": "text/x-python",
   "name": "python",
   "nbconvert_exporter": "python",
   "pygments_lexer": "ipython3",
   "version": "3.12.1"
  }
 },
 "nbformat": 4,
 "nbformat_minor": 5
}
